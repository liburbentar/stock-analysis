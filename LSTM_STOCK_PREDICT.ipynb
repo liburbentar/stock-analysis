{
  "nbformat": 4,
  "nbformat_minor": 0,
  "metadata": {
    "colab": {
      "name": "LSTM-STOCK-PREDICT.ipynb",
      "provenance": [],
      "collapsed_sections": [],
      "mount_file_id": "1Pasvmp3krYlsEv3ThZbRMZ28XPNi6q8B",
      "authorship_tag": "ABX9TyPiUOcu8tA8TNUa6+SHZXeX"
    },
    "kernelspec": {
      "name": "python3",
      "display_name": "Python 3"
    },
    "language_info": {
      "name": "python"
    }
  },
  "cells": [
    {
      "cell_type": "code",
      "execution_count": 1,
      "metadata": {
        "id": "iaBJgErPq2Lp"
      },
      "outputs": [],
      "source": [
        "import math\n",
        "import pandas_datareader as web\n",
        "import numpy as np\n",
        "import pandas as pd\n",
        "from sklearn.preprocessing import MinMaxScaler\n",
        "from keras.models import Sequential\n",
        "from keras.layers import Dense, LSTM\n",
        "import matplotlib.pyplot as plt\n",
        "plt.style.use('fivethirtyeight')\n",
        "pd.options.mode.chained_assignment = None"
      ]
    },
    {
      "cell_type": "code",
      "source": [
        "df = pd.read_csv('/content/drive/MyDrive/analisa-teknikal-saham/UNVR.csv')\n",
        "df"
      ],
      "metadata": {
        "colab": {
          "base_uri": "https://localhost:8080/",
          "height": 423
        },
        "id": "0G5Pe86vrB-F",
        "outputId": "dc7f3fa6-4bbf-46f5-bb84-1c066fb5de9f"
      },
      "execution_count": 2,
      "outputs": [
        {
          "output_type": "execute_result",
          "data": {
            "text/plain": [
              "           Date       Open       High        Low      Close  Adj Close  \\\n",
              "0    2021-05-21  27.020000  27.410000  26.920000  27.200001  27.200001   \n",
              "1    2021-05-24  27.299999  27.420000  27.049999  27.280001  27.280001   \n",
              "2    2021-05-25  27.420000  27.510000  26.990000  27.160000  27.160000   \n",
              "3    2021-05-26  27.160000  27.309999  26.860001  27.000000  27.000000   \n",
              "4    2021-05-27  27.260000  27.459999  26.980000  27.059999  27.059999   \n",
              "..          ...        ...        ...        ...        ...        ...   \n",
              "248  2022-05-16  28.360001  28.830000  27.990000  28.090000  28.090000   \n",
              "249  2022-05-17  28.740000  29.184999  28.610001  29.030001  29.030001   \n",
              "250  2022-05-18  28.750000  29.375000  28.215000  28.340000  28.340000   \n",
              "251  2022-05-19  27.940001  28.799999  27.850000  28.490000  28.490000   \n",
              "252  2022-05-20  29.000000  29.049999  27.879999  28.490000  28.490000   \n",
              "\n",
              "      Volume  \n",
              "0    1169000  \n",
              "1    1051500  \n",
              "2    1279800  \n",
              "3    1526600  \n",
              "4    1122200  \n",
              "..       ...  \n",
              "248  1012300  \n",
              "249  1835600  \n",
              "250   875500  \n",
              "251  1049200  \n",
              "252   810900  \n",
              "\n",
              "[253 rows x 7 columns]"
            ],
            "text/html": [
              "\n",
              "  <div id=\"df-0a4359b6-b4b5-4ea7-9fbb-a1c14b363bda\">\n",
              "    <div class=\"colab-df-container\">\n",
              "      <div>\n",
              "<style scoped>\n",
              "    .dataframe tbody tr th:only-of-type {\n",
              "        vertical-align: middle;\n",
              "    }\n",
              "\n",
              "    .dataframe tbody tr th {\n",
              "        vertical-align: top;\n",
              "    }\n",
              "\n",
              "    .dataframe thead th {\n",
              "        text-align: right;\n",
              "    }\n",
              "</style>\n",
              "<table border=\"1\" class=\"dataframe\">\n",
              "  <thead>\n",
              "    <tr style=\"text-align: right;\">\n",
              "      <th></th>\n",
              "      <th>Date</th>\n",
              "      <th>Open</th>\n",
              "      <th>High</th>\n",
              "      <th>Low</th>\n",
              "      <th>Close</th>\n",
              "      <th>Adj Close</th>\n",
              "      <th>Volume</th>\n",
              "    </tr>\n",
              "  </thead>\n",
              "  <tbody>\n",
              "    <tr>\n",
              "      <th>0</th>\n",
              "      <td>2021-05-21</td>\n",
              "      <td>27.020000</td>\n",
              "      <td>27.410000</td>\n",
              "      <td>26.920000</td>\n",
              "      <td>27.200001</td>\n",
              "      <td>27.200001</td>\n",
              "      <td>1169000</td>\n",
              "    </tr>\n",
              "    <tr>\n",
              "      <th>1</th>\n",
              "      <td>2021-05-24</td>\n",
              "      <td>27.299999</td>\n",
              "      <td>27.420000</td>\n",
              "      <td>27.049999</td>\n",
              "      <td>27.280001</td>\n",
              "      <td>27.280001</td>\n",
              "      <td>1051500</td>\n",
              "    </tr>\n",
              "    <tr>\n",
              "      <th>2</th>\n",
              "      <td>2021-05-25</td>\n",
              "      <td>27.420000</td>\n",
              "      <td>27.510000</td>\n",
              "      <td>26.990000</td>\n",
              "      <td>27.160000</td>\n",
              "      <td>27.160000</td>\n",
              "      <td>1279800</td>\n",
              "    </tr>\n",
              "    <tr>\n",
              "      <th>3</th>\n",
              "      <td>2021-05-26</td>\n",
              "      <td>27.160000</td>\n",
              "      <td>27.309999</td>\n",
              "      <td>26.860001</td>\n",
              "      <td>27.000000</td>\n",
              "      <td>27.000000</td>\n",
              "      <td>1526600</td>\n",
              "    </tr>\n",
              "    <tr>\n",
              "      <th>4</th>\n",
              "      <td>2021-05-27</td>\n",
              "      <td>27.260000</td>\n",
              "      <td>27.459999</td>\n",
              "      <td>26.980000</td>\n",
              "      <td>27.059999</td>\n",
              "      <td>27.059999</td>\n",
              "      <td>1122200</td>\n",
              "    </tr>\n",
              "    <tr>\n",
              "      <th>...</th>\n",
              "      <td>...</td>\n",
              "      <td>...</td>\n",
              "      <td>...</td>\n",
              "      <td>...</td>\n",
              "      <td>...</td>\n",
              "      <td>...</td>\n",
              "      <td>...</td>\n",
              "    </tr>\n",
              "    <tr>\n",
              "      <th>248</th>\n",
              "      <td>2022-05-16</td>\n",
              "      <td>28.360001</td>\n",
              "      <td>28.830000</td>\n",
              "      <td>27.990000</td>\n",
              "      <td>28.090000</td>\n",
              "      <td>28.090000</td>\n",
              "      <td>1012300</td>\n",
              "    </tr>\n",
              "    <tr>\n",
              "      <th>249</th>\n",
              "      <td>2022-05-17</td>\n",
              "      <td>28.740000</td>\n",
              "      <td>29.184999</td>\n",
              "      <td>28.610001</td>\n",
              "      <td>29.030001</td>\n",
              "      <td>29.030001</td>\n",
              "      <td>1835600</td>\n",
              "    </tr>\n",
              "    <tr>\n",
              "      <th>250</th>\n",
              "      <td>2022-05-18</td>\n",
              "      <td>28.750000</td>\n",
              "      <td>29.375000</td>\n",
              "      <td>28.215000</td>\n",
              "      <td>28.340000</td>\n",
              "      <td>28.340000</td>\n",
              "      <td>875500</td>\n",
              "    </tr>\n",
              "    <tr>\n",
              "      <th>251</th>\n",
              "      <td>2022-05-19</td>\n",
              "      <td>27.940001</td>\n",
              "      <td>28.799999</td>\n",
              "      <td>27.850000</td>\n",
              "      <td>28.490000</td>\n",
              "      <td>28.490000</td>\n",
              "      <td>1049200</td>\n",
              "    </tr>\n",
              "    <tr>\n",
              "      <th>252</th>\n",
              "      <td>2022-05-20</td>\n",
              "      <td>29.000000</td>\n",
              "      <td>29.049999</td>\n",
              "      <td>27.879999</td>\n",
              "      <td>28.490000</td>\n",
              "      <td>28.490000</td>\n",
              "      <td>810900</td>\n",
              "    </tr>\n",
              "  </tbody>\n",
              "</table>\n",
              "<p>253 rows × 7 columns</p>\n",
              "</div>\n",
              "      <button class=\"colab-df-convert\" onclick=\"convertToInteractive('df-0a4359b6-b4b5-4ea7-9fbb-a1c14b363bda')\"\n",
              "              title=\"Convert this dataframe to an interactive table.\"\n",
              "              style=\"display:none;\">\n",
              "        \n",
              "  <svg xmlns=\"http://www.w3.org/2000/svg\" height=\"24px\"viewBox=\"0 0 24 24\"\n",
              "       width=\"24px\">\n",
              "    <path d=\"M0 0h24v24H0V0z\" fill=\"none\"/>\n",
              "    <path d=\"M18.56 5.44l.94 2.06.94-2.06 2.06-.94-2.06-.94-.94-2.06-.94 2.06-2.06.94zm-11 1L8.5 8.5l.94-2.06 2.06-.94-2.06-.94L8.5 2.5l-.94 2.06-2.06.94zm10 10l.94 2.06.94-2.06 2.06-.94-2.06-.94-.94-2.06-.94 2.06-2.06.94z\"/><path d=\"M17.41 7.96l-1.37-1.37c-.4-.4-.92-.59-1.43-.59-.52 0-1.04.2-1.43.59L10.3 9.45l-7.72 7.72c-.78.78-.78 2.05 0 2.83L4 21.41c.39.39.9.59 1.41.59.51 0 1.02-.2 1.41-.59l7.78-7.78 2.81-2.81c.8-.78.8-2.07 0-2.86zM5.41 20L4 18.59l7.72-7.72 1.47 1.35L5.41 20z\"/>\n",
              "  </svg>\n",
              "      </button>\n",
              "      \n",
              "  <style>\n",
              "    .colab-df-container {\n",
              "      display:flex;\n",
              "      flex-wrap:wrap;\n",
              "      gap: 12px;\n",
              "    }\n",
              "\n",
              "    .colab-df-convert {\n",
              "      background-color: #E8F0FE;\n",
              "      border: none;\n",
              "      border-radius: 50%;\n",
              "      cursor: pointer;\n",
              "      display: none;\n",
              "      fill: #1967D2;\n",
              "      height: 32px;\n",
              "      padding: 0 0 0 0;\n",
              "      width: 32px;\n",
              "    }\n",
              "\n",
              "    .colab-df-convert:hover {\n",
              "      background-color: #E2EBFA;\n",
              "      box-shadow: 0px 1px 2px rgba(60, 64, 67, 0.3), 0px 1px 3px 1px rgba(60, 64, 67, 0.15);\n",
              "      fill: #174EA6;\n",
              "    }\n",
              "\n",
              "    [theme=dark] .colab-df-convert {\n",
              "      background-color: #3B4455;\n",
              "      fill: #D2E3FC;\n",
              "    }\n",
              "\n",
              "    [theme=dark] .colab-df-convert:hover {\n",
              "      background-color: #434B5C;\n",
              "      box-shadow: 0px 1px 3px 1px rgba(0, 0, 0, 0.15);\n",
              "      filter: drop-shadow(0px 1px 2px rgba(0, 0, 0, 0.3));\n",
              "      fill: #FFFFFF;\n",
              "    }\n",
              "  </style>\n",
              "\n",
              "      <script>\n",
              "        const buttonEl =\n",
              "          document.querySelector('#df-0a4359b6-b4b5-4ea7-9fbb-a1c14b363bda button.colab-df-convert');\n",
              "        buttonEl.style.display =\n",
              "          google.colab.kernel.accessAllowed ? 'block' : 'none';\n",
              "\n",
              "        async function convertToInteractive(key) {\n",
              "          const element = document.querySelector('#df-0a4359b6-b4b5-4ea7-9fbb-a1c14b363bda');\n",
              "          const dataTable =\n",
              "            await google.colab.kernel.invokeFunction('convertToInteractive',\n",
              "                                                     [key], {});\n",
              "          if (!dataTable) return;\n",
              "\n",
              "          const docLinkHtml = 'Like what you see? Visit the ' +\n",
              "            '<a target=\"_blank\" href=https://colab.research.google.com/notebooks/data_table.ipynb>data table notebook</a>'\n",
              "            + ' to learn more about interactive tables.';\n",
              "          element.innerHTML = '';\n",
              "          dataTable['output_type'] = 'display_data';\n",
              "          await google.colab.output.renderOutput(dataTable, element);\n",
              "          const docLink = document.createElement('div');\n",
              "          docLink.innerHTML = docLinkHtml;\n",
              "          element.appendChild(docLink);\n",
              "        }\n",
              "      </script>\n",
              "    </div>\n",
              "  </div>\n",
              "  "
            ]
          },
          "metadata": {},
          "execution_count": 2
        }
      ]
    },
    {
      "cell_type": "code",
      "source": [
        "import math\n",
        "#Create a new dataframe with only the 'Close' column\n",
        "data = df.filter(['Close'])\n",
        "#Converting the dataframe to a numpy array\n",
        "dataset = data.values\n",
        "#Get /Compute the number of rows to train the model on\n",
        "training_data_len = math.ceil( len(dataset) *.8)"
      ],
      "metadata": {
        "id": "xv3ne2i7rNRa"
      },
      "execution_count": 3,
      "outputs": []
    },
    {
      "cell_type": "code",
      "source": [
        "#Scale the all of the data to be values between 0 and 1 \n",
        "from sklearn.preprocessing import MinMaxScaler\n",
        "scaler = MinMaxScaler(feature_range=(0, 1)) \n",
        "scaled_data = scaler.fit_transform(dataset)\n"
      ],
      "metadata": {
        "id": "GB450iEfrPcR"
      },
      "execution_count": 4,
      "outputs": []
    },
    {
      "cell_type": "code",
      "source": [
        "#Create the scaled training data set \n",
        "train_data = scaled_data[0:training_data_len , : ]\n",
        "#Split the data into x_train and y_train data sets\n",
        "x_train=[]\n",
        "y_train = []\n",
        "for i in range(60,len(train_data)):\n",
        "  x_train.append(train_data[i-60:i,0])\n",
        "  y_train.append(train_data[i,0])"
      ],
      "metadata": {
        "id": "HI5mNtMErSRS"
      },
      "execution_count": 5,
      "outputs": []
    },
    {
      "cell_type": "code",
      "source": [
        "#Convert x_train and y_train to numpy arrays\n",
        "x_train, y_train = np.array(x_train), np.array(y_train)"
      ],
      "metadata": {
        "id": "oZHcEjXTrVzQ"
      },
      "execution_count": 6,
      "outputs": []
    },
    {
      "cell_type": "code",
      "source": [
        "#Reshape the data into the shape accepted by the LSTM\n",
        "x_train = np.reshape(x_train, (x_train.shape[0],x_train.shape[1],1))"
      ],
      "metadata": {
        "id": "MPsHEZoHrYur"
      },
      "execution_count": 7,
      "outputs": []
    },
    {
      "cell_type": "code",
      "source": [
        "#Build the LSTM network model\n",
        "from keras.models import Sequential\n",
        "from keras.layers import LSTM\n",
        "from tensorflow.keras.layers import Dense\n",
        "model = Sequential()\n",
        "model.add(LSTM(units=50, return_sequences=True,input_shape=(x_train.shape[1],1)))\n",
        "model.add(LSTM(units=50, return_sequences=False))\n",
        "model.add(Dense(units=25))\n",
        "model.add(Dense(units=1))"
      ],
      "metadata": {
        "id": "GOOnbqJXrbD1"
      },
      "execution_count": 8,
      "outputs": []
    },
    {
      "cell_type": "code",
      "source": [
        "#Compile the model\n",
        "model.compile(optimizer='adam', loss='mean_squared_error')"
      ],
      "metadata": {
        "id": "YY21V5hjrebw"
      },
      "execution_count": 9,
      "outputs": []
    },
    {
      "cell_type": "code",
      "source": [
        "#Train the model\n",
        "model.fit(x_train, y_train, batch_size=1, epochs=100)"
      ],
      "metadata": {
        "colab": {
          "base_uri": "https://localhost:8080/"
        },
        "id": "RTTK58-Irg6W",
        "outputId": "aee4dfbe-ba65-4441-bd9d-1680f3f43fd9"
      },
      "execution_count": 21,
      "outputs": [
        {
          "output_type": "stream",
          "name": "stdout",
          "text": [
            "Epoch 1/100\n",
            "143/143 [==============================] - 5s 36ms/step - loss: 0.0038\n",
            "Epoch 2/100\n",
            "143/143 [==============================] - 4s 27ms/step - loss: 0.0040\n",
            "Epoch 3/100\n",
            "143/143 [==============================] - 4s 26ms/step - loss: 0.0037\n",
            "Epoch 4/100\n",
            "143/143 [==============================] - 4s 27ms/step - loss: 0.0032\n",
            "Epoch 5/100\n",
            "143/143 [==============================] - 4s 28ms/step - loss: 0.0030\n",
            "Epoch 6/100\n",
            "143/143 [==============================] - 4s 27ms/step - loss: 0.0034\n",
            "Epoch 7/100\n",
            "143/143 [==============================] - 4s 28ms/step - loss: 0.0028\n",
            "Epoch 8/100\n",
            "143/143 [==============================] - 4s 27ms/step - loss: 0.0026\n",
            "Epoch 9/100\n",
            "143/143 [==============================] - 4s 27ms/step - loss: 0.0026\n",
            "Epoch 10/100\n",
            "143/143 [==============================] - 4s 28ms/step - loss: 0.0031\n",
            "Epoch 11/100\n",
            "143/143 [==============================] - 4s 27ms/step - loss: 0.0030\n",
            "Epoch 12/100\n",
            "143/143 [==============================] - 4s 27ms/step - loss: 0.0027\n",
            "Epoch 13/100\n",
            "143/143 [==============================] - 4s 27ms/step - loss: 0.0029\n",
            "Epoch 14/100\n",
            "143/143 [==============================] - 4s 27ms/step - loss: 0.0025\n",
            "Epoch 15/100\n",
            "143/143 [==============================] - 4s 28ms/step - loss: 0.0032\n",
            "Epoch 16/100\n",
            "143/143 [==============================] - 4s 28ms/step - loss: 0.0028\n",
            "Epoch 17/100\n",
            "143/143 [==============================] - 4s 28ms/step - loss: 0.0025\n",
            "Epoch 18/100\n",
            "143/143 [==============================] - 4s 28ms/step - loss: 0.0031\n",
            "Epoch 19/100\n",
            "143/143 [==============================] - 4s 28ms/step - loss: 0.0024\n",
            "Epoch 20/100\n",
            "143/143 [==============================] - 4s 27ms/step - loss: 0.0025\n",
            "Epoch 21/100\n",
            "143/143 [==============================] - 4s 28ms/step - loss: 0.0025\n",
            "Epoch 22/100\n",
            "143/143 [==============================] - 4s 28ms/step - loss: 0.0026\n",
            "Epoch 23/100\n",
            "143/143 [==============================] - 4s 27ms/step - loss: 0.0031\n",
            "Epoch 24/100\n",
            "143/143 [==============================] - 4s 28ms/step - loss: 0.0028\n",
            "Epoch 25/100\n",
            "143/143 [==============================] - 4s 27ms/step - loss: 0.0026\n",
            "Epoch 26/100\n",
            "143/143 [==============================] - 4s 28ms/step - loss: 0.0026\n",
            "Epoch 27/100\n",
            "143/143 [==============================] - 4s 28ms/step - loss: 0.0024\n",
            "Epoch 28/100\n",
            "143/143 [==============================] - 4s 27ms/step - loss: 0.0028\n",
            "Epoch 29/100\n",
            "143/143 [==============================] - 4s 28ms/step - loss: 0.0030\n",
            "Epoch 30/100\n",
            "143/143 [==============================] - 4s 29ms/step - loss: 0.0025\n",
            "Epoch 31/100\n",
            "143/143 [==============================] - 4s 28ms/step - loss: 0.0027\n",
            "Epoch 32/100\n",
            "143/143 [==============================] - 4s 28ms/step - loss: 0.0027\n",
            "Epoch 33/100\n",
            "143/143 [==============================] - 4s 28ms/step - loss: 0.0026\n",
            "Epoch 34/100\n",
            "143/143 [==============================] - 4s 28ms/step - loss: 0.0026\n",
            "Epoch 35/100\n",
            "143/143 [==============================] - 4s 28ms/step - loss: 0.0031\n",
            "Epoch 36/100\n",
            "143/143 [==============================] - 4s 28ms/step - loss: 0.0025\n",
            "Epoch 37/100\n",
            "143/143 [==============================] - 4s 28ms/step - loss: 0.0025\n",
            "Epoch 38/100\n",
            "143/143 [==============================] - 4s 28ms/step - loss: 0.0029\n",
            "Epoch 39/100\n",
            "143/143 [==============================] - 4s 27ms/step - loss: 0.0028\n",
            "Epoch 40/100\n",
            "143/143 [==============================] - 4s 27ms/step - loss: 0.0026\n",
            "Epoch 41/100\n",
            "143/143 [==============================] - 4s 27ms/step - loss: 0.0024\n",
            "Epoch 42/100\n",
            "143/143 [==============================] - 4s 28ms/step - loss: 0.0026\n",
            "Epoch 43/100\n",
            "143/143 [==============================] - 4s 28ms/step - loss: 0.0026\n",
            "Epoch 44/100\n",
            "143/143 [==============================] - 4s 28ms/step - loss: 0.0027\n",
            "Epoch 45/100\n",
            "143/143 [==============================] - 4s 28ms/step - loss: 0.0028\n",
            "Epoch 46/100\n",
            "143/143 [==============================] - 4s 28ms/step - loss: 0.0028\n",
            "Epoch 47/100\n",
            "143/143 [==============================] - 4s 28ms/step - loss: 0.0030\n",
            "Epoch 48/100\n",
            "143/143 [==============================] - 4s 28ms/step - loss: 0.0026\n",
            "Epoch 49/100\n",
            "143/143 [==============================] - 4s 28ms/step - loss: 0.0030\n",
            "Epoch 50/100\n",
            "143/143 [==============================] - 4s 28ms/step - loss: 0.0027\n",
            "Epoch 51/100\n",
            "143/143 [==============================] - 4s 28ms/step - loss: 0.0027\n",
            "Epoch 52/100\n",
            "143/143 [==============================] - 4s 28ms/step - loss: 0.0029\n",
            "Epoch 53/100\n",
            "143/143 [==============================] - 4s 28ms/step - loss: 0.0026\n",
            "Epoch 54/100\n",
            "143/143 [==============================] - 4s 28ms/step - loss: 0.0025\n",
            "Epoch 55/100\n",
            "143/143 [==============================] - 4s 27ms/step - loss: 0.0025\n",
            "Epoch 56/100\n",
            "143/143 [==============================] - 4s 28ms/step - loss: 0.0024\n",
            "Epoch 57/100\n",
            "143/143 [==============================] - 4s 27ms/step - loss: 0.0027\n",
            "Epoch 58/100\n",
            "143/143 [==============================] - 4s 28ms/step - loss: 0.0027\n",
            "Epoch 59/100\n",
            "143/143 [==============================] - 4s 28ms/step - loss: 0.0024\n",
            "Epoch 60/100\n",
            "143/143 [==============================] - 4s 29ms/step - loss: 0.0025\n",
            "Epoch 61/100\n",
            "143/143 [==============================] - 4s 28ms/step - loss: 0.0029\n",
            "Epoch 62/100\n",
            "143/143 [==============================] - 4s 28ms/step - loss: 0.0028\n",
            "Epoch 63/100\n",
            "143/143 [==============================] - 4s 28ms/step - loss: 0.0025\n",
            "Epoch 64/100\n",
            "143/143 [==============================] - 4s 29ms/step - loss: 0.0024\n",
            "Epoch 65/100\n",
            "143/143 [==============================] - 4s 28ms/step - loss: 0.0024\n",
            "Epoch 66/100\n",
            "143/143 [==============================] - 4s 28ms/step - loss: 0.0026\n",
            "Epoch 67/100\n",
            "143/143 [==============================] - 4s 29ms/step - loss: 0.0029\n",
            "Epoch 68/100\n",
            "143/143 [==============================] - 4s 29ms/step - loss: 0.0025\n",
            "Epoch 69/100\n",
            "143/143 [==============================] - 4s 29ms/step - loss: 0.0023\n",
            "Epoch 70/100\n",
            "143/143 [==============================] - 4s 28ms/step - loss: 0.0024\n",
            "Epoch 71/100\n",
            "143/143 [==============================] - 4s 28ms/step - loss: 0.0026\n",
            "Epoch 72/100\n",
            "143/143 [==============================] - 4s 28ms/step - loss: 0.0024\n",
            "Epoch 73/100\n",
            "143/143 [==============================] - 4s 27ms/step - loss: 0.0023\n",
            "Epoch 74/100\n",
            "143/143 [==============================] - 4s 28ms/step - loss: 0.0027\n",
            "Epoch 75/100\n",
            "143/143 [==============================] - 4s 28ms/step - loss: 0.0027\n",
            "Epoch 76/100\n",
            "143/143 [==============================] - 4s 28ms/step - loss: 0.0030\n",
            "Epoch 77/100\n",
            "143/143 [==============================] - 4s 28ms/step - loss: 0.0026\n",
            "Epoch 78/100\n",
            "143/143 [==============================] - 4s 28ms/step - loss: 0.0024\n",
            "Epoch 79/100\n",
            "143/143 [==============================] - 4s 29ms/step - loss: 0.0025\n",
            "Epoch 80/100\n",
            "143/143 [==============================] - 4s 29ms/step - loss: 0.0026\n",
            "Epoch 81/100\n",
            "143/143 [==============================] - 4s 28ms/step - loss: 0.0025\n",
            "Epoch 82/100\n",
            "143/143 [==============================] - 4s 28ms/step - loss: 0.0026\n",
            "Epoch 83/100\n",
            "143/143 [==============================] - 4s 28ms/step - loss: 0.0026\n",
            "Epoch 84/100\n",
            "143/143 [==============================] - 4s 28ms/step - loss: 0.0027\n",
            "Epoch 85/100\n",
            "143/143 [==============================] - 4s 28ms/step - loss: 0.0023\n",
            "Epoch 86/100\n",
            "143/143 [==============================] - 4s 28ms/step - loss: 0.0026\n",
            "Epoch 87/100\n",
            "143/143 [==============================] - 4s 29ms/step - loss: 0.0024\n",
            "Epoch 88/100\n",
            "143/143 [==============================] - 4s 29ms/step - loss: 0.0024\n",
            "Epoch 89/100\n",
            "143/143 [==============================] - 4s 28ms/step - loss: 0.0024\n",
            "Epoch 90/100\n",
            "143/143 [==============================] - 4s 28ms/step - loss: 0.0023\n",
            "Epoch 91/100\n",
            "143/143 [==============================] - 4s 28ms/step - loss: 0.0025\n",
            "Epoch 92/100\n",
            "143/143 [==============================] - 4s 28ms/step - loss: 0.0023\n",
            "Epoch 93/100\n",
            "143/143 [==============================] - 4s 28ms/step - loss: 0.0023\n",
            "Epoch 94/100\n",
            "143/143 [==============================] - 4s 28ms/step - loss: 0.0026\n",
            "Epoch 95/100\n",
            "143/143 [==============================] - 4s 29ms/step - loss: 0.0024\n",
            "Epoch 96/100\n",
            "143/143 [==============================] - 4s 29ms/step - loss: 0.0024\n",
            "Epoch 97/100\n",
            "143/143 [==============================] - 4s 28ms/step - loss: 0.0027\n",
            "Epoch 98/100\n",
            "143/143 [==============================] - 4s 28ms/step - loss: 0.0024\n",
            "Epoch 99/100\n",
            "143/143 [==============================] - 4s 28ms/step - loss: 0.0026\n",
            "Epoch 100/100\n",
            "143/143 [==============================] - 4s 28ms/step - loss: 0.0024\n"
          ]
        },
        {
          "output_type": "execute_result",
          "data": {
            "text/plain": [
              "<keras.callbacks.History at 0x7f0d92267990>"
            ]
          },
          "metadata": {},
          "execution_count": 21
        }
      ]
    },
    {
      "cell_type": "code",
      "source": [
        "#Test data set\n",
        "test_data = scaled_data[training_data_len - 60: , : ]\n",
        "#Create the x_test and y_test data sets\n",
        "x_test = []\n",
        "y_test = dataset[training_data_len : , : ] #Get all of the rows from index 1603 to the rest and all of the columns (in this case it's only column 'Close'), so 2003 - 1603 = 400 rows of data\n",
        "for i in range(60,len(test_data)):\n",
        "  x_test.append(test_data[i-60:i,0])"
      ],
      "metadata": {
        "id": "d2TRsdHVrkQB"
      },
      "execution_count": 22,
      "outputs": []
    },
    {
      "cell_type": "code",
      "source": [
        "#Convert x_test to a numpy array \n",
        "x_test = np.array(x_test)"
      ],
      "metadata": {
        "id": "uFKyORZ8rp2t"
      },
      "execution_count": 23,
      "outputs": []
    },
    {
      "cell_type": "code",
      "source": [
        "#Reshape the data into the shape accepted by the LSTM\n",
        "x_test = np.reshape(x_test, (x_test.shape[0],x_test.shape[1],1))"
      ],
      "metadata": {
        "id": "n30HpblQrsDr"
      },
      "execution_count": 24,
      "outputs": []
    },
    {
      "cell_type": "code",
      "source": [
        "#Getting the models predicted price values\n",
        "predictions = model.predict(x_test) \n",
        "predictions = scaler.inverse_transform(predictions)#Undo scaling"
      ],
      "metadata": {
        "id": "MR9R7RVBruG6"
      },
      "execution_count": 25,
      "outputs": []
    },
    {
      "cell_type": "code",
      "source": [
        "#Calculate/Get the value of RMSE\n",
        "rmse=np.sqrt(np.mean(((predictions- y_test)**2)))\n",
        "rmse"
      ],
      "metadata": {
        "colab": {
          "base_uri": "https://localhost:8080/"
        },
        "id": "Q7aLgPh9rxOI",
        "outputId": "5b977a1b-0fd7-4a99-b695-96aff6c81900"
      },
      "execution_count": 26,
      "outputs": [
        {
          "output_type": "execute_result",
          "data": {
            "text/plain": [
              "0.9868482956003172"
            ]
          },
          "metadata": {},
          "execution_count": 26
        }
      ]
    },
    {
      "cell_type": "code",
      "source": [
        "#Plot/Create the data for the graph\n",
        "train = data[:training_data_len]\n",
        "valid = data[training_data_len:]\n",
        "valid['Predictions'] = predictions\n",
        "#Visualize the data\n",
        "plt.figure(figsize=(16,8))\n",
        "plt.title('Model')\n",
        "plt.xlabel('Date', fontsize=18)\n",
        "plt.ylabel('Close Price USD ($)', fontsize=18)\n",
        "plt.plot(train['Close'])\n",
        "plt.plot(valid[['Close', 'Predictions']])\n",
        "plt.legend(['Train', 'Val', 'Predictions'], loc='lower right')\n",
        "plt.show()"
      ],
      "metadata": {
        "colab": {
          "base_uri": "https://localhost:8080/",
          "height": 518
        },
        "id": "Xfrf6_O5rzys",
        "outputId": "4b1eefc0-3c7a-4241-a859-07764343db20"
      },
      "execution_count": 27,
      "outputs": [
        {
          "output_type": "display_data",
          "data": {
            "text/plain": [
              "<Figure size 1152x576 with 1 Axes>"
            ],
            "image/png": "[encoded data removed]"
          },
          "metadata": {
            "needs_background": "light"
          }
        }
      ]
    },
    {
      "cell_type": "code",
      "source": [
        "#Get the quote\n",
        "sapx_quote = df\n",
        "#Create a new dataframe\n",
        "new_df = apple_quote.filter(['Close'])\n",
        "#Get teh last 60 day closing price\n",
        "last_60_days = new_df[-60:].values\n",
        "#Scale the data to be values between 0 and 1\n",
        "last_60_days_scaled = scaler.transform(last_60_days)\n",
        "#Create an empty list\n",
        "X_test = []\n",
        "#Append teh past 60 days\n",
        "X_test.append(last_60_days_scaled)\n",
        "#Convert the X_test data set to a numpy array\n",
        "X_test = np.array(X_test)\n",
        "#Reshape the data\n",
        "X_test = np.reshape(X_test, (X_test.shape[0], X_test.shape[1], 1))\n",
        "#Get the predicted scaled price\n",
        "pred_price = model.predict(X_test)\n",
        "#undo the scaling\n",
        "pred_price = scaler.inverse_transform(pred_price)\n",
        "print(pred_price)"
      ],
      "metadata": {
        "id": "4CleLx46r3jV"
      },
      "execution_count": null,
      "outputs": []
    }
  ]
}